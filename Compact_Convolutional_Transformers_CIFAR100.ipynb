{
  "nbformat": 4,
  "nbformat_minor": 0,
  "metadata": {
    "colab": {
      "provenance": []
    },
    "kernelspec": {
      "name": "python3",
      "display_name": "Python 3"
    },
    "language_info": {
      "name": "python"
    },
    "accelerator": "GPU",
    "gpuClass": "standard"
  },
  "cells": [
    {
      "cell_type": "markdown",
      "source": [
        "Install tensorflow-addons"
      ],
      "metadata": {
        "id": "h8NeNqFCEwRV"
      }
    },
    {
      "cell_type": "code",
      "source": [
        "\n",
        "!pip install -U -q tensorflow-addons"
      ],
      "metadata": {
        "colab": {
          "base_uri": "https://localhost:8080/"
        },
        "id": "eHApFcfr_1bh",
        "outputId": "ce3f5304-744f-4aac-e8b8-06734da2f097"
      },
      "execution_count": 1,
      "outputs": [
        {
          "output_type": "stream",
          "name": "stdout",
          "text": [
            "\u001b[?25l\r\u001b[K     |▎                               | 10 kB 17.4 MB/s eta 0:00:01\r\u001b[K     |▋                               | 20 kB 23.8 MB/s eta 0:00:01\r\u001b[K     |█                               | 30 kB 30.5 MB/s eta 0:00:01\r\u001b[K     |█▎                              | 40 kB 34.2 MB/s eta 0:00:01\r\u001b[K     |█▌                              | 51 kB 36.4 MB/s eta 0:00:01\r\u001b[K     |█▉                              | 61 kB 39.3 MB/s eta 0:00:01\r\u001b[K     |██▏                             | 71 kB 39.8 MB/s eta 0:00:01\r\u001b[K     |██▌                             | 81 kB 40.8 MB/s eta 0:00:01\r\u001b[K     |██▊                             | 92 kB 42.3 MB/s eta 0:00:01\r\u001b[K     |███                             | 102 kB 38.6 MB/s eta 0:00:01\r\u001b[K     |███▍                            | 112 kB 38.6 MB/s eta 0:00:01\r\u001b[K     |███▊                            | 122 kB 38.6 MB/s eta 0:00:01\r\u001b[K     |████                            | 133 kB 38.6 MB/s eta 0:00:01\r\u001b[K     |████▎                           | 143 kB 38.6 MB/s eta 0:00:01\r\u001b[K     |████▋                           | 153 kB 38.6 MB/s eta 0:00:01\r\u001b[K     |█████                           | 163 kB 38.6 MB/s eta 0:00:01\r\u001b[K     |█████▏                          | 174 kB 38.6 MB/s eta 0:00:01\r\u001b[K     |█████▌                          | 184 kB 38.6 MB/s eta 0:00:01\r\u001b[K     |█████▉                          | 194 kB 38.6 MB/s eta 0:00:01\r\u001b[K     |██████▏                         | 204 kB 38.6 MB/s eta 0:00:01\r\u001b[K     |██████▌                         | 215 kB 38.6 MB/s eta 0:00:01\r\u001b[K     |██████▊                         | 225 kB 38.6 MB/s eta 0:00:01\r\u001b[K     |███████                         | 235 kB 38.6 MB/s eta 0:00:01\r\u001b[K     |███████▍                        | 245 kB 38.6 MB/s eta 0:00:01\r\u001b[K     |███████▊                        | 256 kB 38.6 MB/s eta 0:00:01\r\u001b[K     |████████                        | 266 kB 38.6 MB/s eta 0:00:01\r\u001b[K     |████████▎                       | 276 kB 38.6 MB/s eta 0:00:01\r\u001b[K     |████████▋                       | 286 kB 38.6 MB/s eta 0:00:01\r\u001b[K     |█████████                       | 296 kB 38.6 MB/s eta 0:00:01\r\u001b[K     |█████████▏                      | 307 kB 38.6 MB/s eta 0:00:01\r\u001b[K     |█████████▌                      | 317 kB 38.6 MB/s eta 0:00:01\r\u001b[K     |█████████▉                      | 327 kB 38.6 MB/s eta 0:00:01\r\u001b[K     |██████████▏                     | 337 kB 38.6 MB/s eta 0:00:01\r\u001b[K     |██████████▍                     | 348 kB 38.6 MB/s eta 0:00:01\r\u001b[K     |██████████▊                     | 358 kB 38.6 MB/s eta 0:00:01\r\u001b[K     |███████████                     | 368 kB 38.6 MB/s eta 0:00:01\r\u001b[K     |███████████▍                    | 378 kB 38.6 MB/s eta 0:00:01\r\u001b[K     |███████████▋                    | 389 kB 38.6 MB/s eta 0:00:01\r\u001b[K     |████████████                    | 399 kB 38.6 MB/s eta 0:00:01\r\u001b[K     |████████████▎                   | 409 kB 38.6 MB/s eta 0:00:01\r\u001b[K     |████████████▋                   | 419 kB 38.6 MB/s eta 0:00:01\r\u001b[K     |█████████████                   | 430 kB 38.6 MB/s eta 0:00:01\r\u001b[K     |█████████████▏                  | 440 kB 38.6 MB/s eta 0:00:01\r\u001b[K     |█████████████▌                  | 450 kB 38.6 MB/s eta 0:00:01\r\u001b[K     |█████████████▉                  | 460 kB 38.6 MB/s eta 0:00:01\r\u001b[K     |██████████████▏                 | 471 kB 38.6 MB/s eta 0:00:01\r\u001b[K     |██████████████▍                 | 481 kB 38.6 MB/s eta 0:00:01\r\u001b[K     |██████████████▊                 | 491 kB 38.6 MB/s eta 0:00:01\r\u001b[K     |███████████████                 | 501 kB 38.6 MB/s eta 0:00:01\r\u001b[K     |███████████████▍                | 512 kB 38.6 MB/s eta 0:00:01\r\u001b[K     |███████████████▋                | 522 kB 38.6 MB/s eta 0:00:01\r\u001b[K     |████████████████                | 532 kB 38.6 MB/s eta 0:00:01\r\u001b[K     |████████████████▎               | 542 kB 38.6 MB/s eta 0:00:01\r\u001b[K     |████████████████▋               | 552 kB 38.6 MB/s eta 0:00:01\r\u001b[K     |████████████████▉               | 563 kB 38.6 MB/s eta 0:00:01\r\u001b[K     |█████████████████▏              | 573 kB 38.6 MB/s eta 0:00:01\r\u001b[K     |█████████████████▌              | 583 kB 38.6 MB/s eta 0:00:01\r\u001b[K     |█████████████████▉              | 593 kB 38.6 MB/s eta 0:00:01\r\u001b[K     |██████████████████▏             | 604 kB 38.6 MB/s eta 0:00:01\r\u001b[K     |██████████████████▍             | 614 kB 38.6 MB/s eta 0:00:01\r\u001b[K     |██████████████████▊             | 624 kB 38.6 MB/s eta 0:00:01\r\u001b[K     |███████████████████             | 634 kB 38.6 MB/s eta 0:00:01\r\u001b[K     |███████████████████▍            | 645 kB 38.6 MB/s eta 0:00:01\r\u001b[K     |███████████████████▋            | 655 kB 38.6 MB/s eta 0:00:01\r\u001b[K     |████████████████████            | 665 kB 38.6 MB/s eta 0:00:01\r\u001b[K     |████████████████████▎           | 675 kB 38.6 MB/s eta 0:00:01\r\u001b[K     |████████████████████▋           | 686 kB 38.6 MB/s eta 0:00:01\r\u001b[K     |████████████████████▉           | 696 kB 38.6 MB/s eta 0:00:01\r\u001b[K     |█████████████████████▏          | 706 kB 38.6 MB/s eta 0:00:01\r\u001b[K     |█████████████████████▌          | 716 kB 38.6 MB/s eta 0:00:01\r\u001b[K     |█████████████████████▉          | 727 kB 38.6 MB/s eta 0:00:01\r\u001b[K     |██████████████████████          | 737 kB 38.6 MB/s eta 0:00:01\r\u001b[K     |██████████████████████▍         | 747 kB 38.6 MB/s eta 0:00:01\r\u001b[K     |██████████████████████▊         | 757 kB 38.6 MB/s eta 0:00:01\r\u001b[K     |███████████████████████         | 768 kB 38.6 MB/s eta 0:00:01\r\u001b[K     |███████████████████████▎        | 778 kB 38.6 MB/s eta 0:00:01\r\u001b[K     |███████████████████████▋        | 788 kB 38.6 MB/s eta 0:00:01\r\u001b[K     |████████████████████████        | 798 kB 38.6 MB/s eta 0:00:01\r\u001b[K     |████████████████████████▎       | 808 kB 38.6 MB/s eta 0:00:01\r\u001b[K     |████████████████████████▋       | 819 kB 38.6 MB/s eta 0:00:01\r\u001b[K     |████████████████████████▉       | 829 kB 38.6 MB/s eta 0:00:01\r\u001b[K     |█████████████████████████▏      | 839 kB 38.6 MB/s eta 0:00:01\r\u001b[K     |█████████████████████████▌      | 849 kB 38.6 MB/s eta 0:00:01\r\u001b[K     |█████████████████████████▉      | 860 kB 38.6 MB/s eta 0:00:01\r\u001b[K     |██████████████████████████      | 870 kB 38.6 MB/s eta 0:00:01\r\u001b[K     |██████████████████████████▍     | 880 kB 38.6 MB/s eta 0:00:01\r\u001b[K     |██████████████████████████▊     | 890 kB 38.6 MB/s eta 0:00:01\r\u001b[K     |███████████████████████████     | 901 kB 38.6 MB/s eta 0:00:01\r\u001b[K     |███████████████████████████▎    | 911 kB 38.6 MB/s eta 0:00:01\r\u001b[K     |███████████████████████████▋    | 921 kB 38.6 MB/s eta 0:00:01\r\u001b[K     |████████████████████████████    | 931 kB 38.6 MB/s eta 0:00:01\r\u001b[K     |████████████████████████████▎   | 942 kB 38.6 MB/s eta 0:00:01\r\u001b[K     |████████████████████████████▌   | 952 kB 38.6 MB/s eta 0:00:01\r\u001b[K     |████████████████████████████▉   | 962 kB 38.6 MB/s eta 0:00:01\r\u001b[K     |█████████████████████████████▏  | 972 kB 38.6 MB/s eta 0:00:01\r\u001b[K     |█████████████████████████████▌  | 983 kB 38.6 MB/s eta 0:00:01\r\u001b[K     |█████████████████████████████▉  | 993 kB 38.6 MB/s eta 0:00:01\r\u001b[K     |██████████████████████████████  | 1.0 MB 38.6 MB/s eta 0:00:01\r\u001b[K     |██████████████████████████████▍ | 1.0 MB 38.6 MB/s eta 0:00:01\r\u001b[K     |██████████████████████████████▊ | 1.0 MB 38.6 MB/s eta 0:00:01\r\u001b[K     |███████████████████████████████ | 1.0 MB 38.6 MB/s eta 0:00:01\r\u001b[K     |███████████████████████████████▎| 1.0 MB 38.6 MB/s eta 0:00:01\r\u001b[K     |███████████████████████████████▋| 1.1 MB 38.6 MB/s eta 0:00:01\r\u001b[K     |████████████████████████████████| 1.1 MB 38.6 MB/s eta 0:00:01\r\u001b[K     |████████████████████████████████| 1.1 MB 38.6 MB/s \n",
            "\u001b[?25h"
          ]
        }
      ]
    },
    {
      "cell_type": "markdown",
      "source": [
        "Setup"
      ],
      "metadata": {
        "id": "2i9qkNqvE0Bs"
      }
    },
    {
      "cell_type": "code",
      "execution_count": 2,
      "metadata": {
        "id": "PtWLp42R_oyJ"
      },
      "outputs": [],
      "source": [
        "\n",
        "from tensorflow.keras import layers\n",
        "from tensorflow import keras\n",
        "\n",
        "import matplotlib.pyplot as plt\n",
        "import tensorflow_addons as tfa\n",
        "import tensorflow as tf\n",
        "import numpy as np"
      ]
    },
    {
      "cell_type": "markdown",
      "source": [
        "Defining Hyperparameters and constants"
      ],
      "metadata": {
        "id": "xIKy_W8JE3At"
      }
    },
    {
      "cell_type": "code",
      "source": [
        "positional_emb = True\n",
        "conv_layers = 2\n",
        "projection_dim = 128\n",
        "\n",
        "num_heads = 2\n",
        "transformer_units = [\n",
        "    projection_dim,\n",
        "    projection_dim,\n",
        "]\n",
        "transformer_layers = 2\n",
        "stochastic_depth_rate = 0.1\n",
        "\n",
        "learning_rate = 0.001\n",
        "weight_decay = 0.0001\n",
        "batch_size = 128\n",
        "num_epochs = 30\n",
        "image_size = 32"
      ],
      "metadata": {
        "id": "r6Shu2fH_6Rt"
      },
      "execution_count": 3,
      "outputs": []
    },
    {
      "cell_type": "markdown",
      "source": [
        "Loading CIFAR-100 dataset"
      ],
      "metadata": {
        "id": "7U2RucGJE6Wr"
      }
    },
    {
      "cell_type": "code",
      "source": [
        "\n",
        "num_classes = 100\n",
        "input_shape = (32, 32, 3)\n",
        "\n",
        "(x_train, y_train), (x_test, y_test) = keras.datasets.cifar100.load_data()\n",
        "\n",
        "y_train = keras.utils.to_categorical(y_train, num_classes)\n",
        "y_test = keras.utils.to_categorical(y_test, num_classes)\n",
        "\n",
        "print(f\"x_train shape: {x_train.shape} - y_train shape: {y_train.shape}\")\n",
        "print(f\"x_test shape: {x_test.shape} - y_test shape: {y_test.shape}\")"
      ],
      "metadata": {
        "colab": {
          "base_uri": "https://localhost:8080/"
        },
        "id": "XdIecEFi_9TO",
        "outputId": "9abcfa0e-e8ba-4baa-a601-046f7d997888"
      },
      "execution_count": 4,
      "outputs": [
        {
          "output_type": "stream",
          "name": "stdout",
          "text": [
            "Downloading data from https://www.cs.toronto.edu/~kriz/cifar-100-python.tar.gz\n",
            "169001437/169001437 [==============================] - 13s 0us/step\n",
            "x_train shape: (50000, 32, 32, 3) - y_train shape: (50000, 100)\n",
            "x_test shape: (10000, 32, 32, 3) - y_test shape: (10000, 100)\n"
          ]
        }
      ]
    },
    {
      "cell_type": "markdown",
      "source": [
        "CCT tokenizer"
      ],
      "metadata": {
        "id": "-Xq494jqE9bO"
      }
    },
    {
      "cell_type": "code",
      "source": [
        "class CCTTokenizer(layers.Layer):\n",
        "    def __init__(\n",
        "        self,\n",
        "        kernel_size=3,\n",
        "        stride=1,\n",
        "        padding=1,\n",
        "        pooling_kernel_size=3,\n",
        "        pooling_stride=2,\n",
        "        num_conv_layers=conv_layers,\n",
        "        num_output_channels=[64, 128],\n",
        "        positional_emb=positional_emb,\n",
        "        **kwargs,\n",
        "    ):\n",
        "        super(CCTTokenizer, self).__init__(**kwargs)\n",
        "\n",
        "        # This is our tokenizer.\n",
        "        self.conv_model = keras.Sequential()\n",
        "        for i in range(num_conv_layers):\n",
        "            self.conv_model.add(\n",
        "                layers.Conv2D(\n",
        "                    num_output_channels[i],\n",
        "                    kernel_size,\n",
        "                    stride,\n",
        "                    padding=\"valid\",\n",
        "                    use_bias=False,\n",
        "                    activation=\"relu\",\n",
        "                    kernel_initializer=\"he_normal\",\n",
        "                )\n",
        "            )\n",
        "            self.conv_model.add(layers.ZeroPadding2D(padding))\n",
        "            self.conv_model.add(\n",
        "                layers.MaxPool2D(pooling_kernel_size, pooling_stride, \"same\")\n",
        "            )\n",
        "\n",
        "        self.positional_emb = positional_emb\n",
        "\n",
        "    def call(self, images):\n",
        "        outputs = self.conv_model(images)\n",
        "        # After passing the images through our mini-network the spatial dimensions\n",
        "        # are flattened to form sequences.\n",
        "        reshaped = tf.reshape(\n",
        "            outputs,\n",
        "            (-1, tf.shape(outputs)[1] * tf.shape(outputs)[2], tf.shape(outputs)[-1]),\n",
        "        )\n",
        "        return reshaped\n",
        "\n",
        "    def positional_embedding(self, image_size):\n",
        "        # Positional embeddings are optional in CCT. Here, we calculate\n",
        "        # the number of sequences and initialize an `Embedding` layer to\n",
        "        # compute the positional embeddings later.\n",
        "        if self.positional_emb:\n",
        "            dummy_inputs = tf.ones((1, image_size, image_size, 3))\n",
        "            dummy_outputs = self.call(dummy_inputs)\n",
        "            sequence_length = tf.shape(dummy_outputs)[1]\n",
        "            projection_dim = tf.shape(dummy_outputs)[-1]\n",
        "\n",
        "            embed_layer = layers.Embedding(\n",
        "                input_dim=sequence_length, output_dim=projection_dim\n",
        "            )\n",
        "            return embed_layer, sequence_length\n",
        "        else:\n",
        "            return None"
      ],
      "metadata": {
        "id": "cM0aL9YhD2RL"
      },
      "execution_count": 5,
      "outputs": []
    },
    {
      "cell_type": "markdown",
      "source": [
        "Stochastic depth for regularization"
      ],
      "metadata": {
        "id": "BGTirPY0E_ur"
      }
    },
    {
      "cell_type": "code",
      "source": [
        "\n",
        "\n",
        "# Referred from: github.com:rwightman/pytorch-image-models.\n",
        "class StochasticDepth(layers.Layer):\n",
        "    def __init__(self, drop_prop, **kwargs):\n",
        "        super(StochasticDepth, self).__init__(**kwargs)\n",
        "        self.drop_prob = drop_prop\n",
        "\n",
        "    def call(self, x, training=None):\n",
        "        if training:\n",
        "            keep_prob = 1 - self.drop_prob\n",
        "            shape = (tf.shape(x)[0],) + (1,) * (len(tf.shape(x)) - 1)\n",
        "            random_tensor = keep_prob + tf.random.uniform(shape, 0, 1)\n",
        "            random_tensor = tf.floor(random_tensor)\n",
        "            return (x / keep_prob) * random_tensor\n",
        "        return x"
      ],
      "metadata": {
        "id": "72g4AqVED9Od"
      },
      "execution_count": 6,
      "outputs": []
    },
    {
      "cell_type": "markdown",
      "source": [
        "MLP for the Transformers encoder"
      ],
      "metadata": {
        "id": "4t3jTAH5FCz6"
      }
    },
    {
      "cell_type": "code",
      "source": [
        "\n",
        "def mlp(x, hidden_units, dropout_rate):\n",
        "    for units in hidden_units:\n",
        "        x = layers.Dense(units, activation=tf.nn.gelu)(x)\n",
        "        x = layers.Dropout(dropout_rate)(x)\n",
        "    return x"
      ],
      "metadata": {
        "id": "EFY1n4lfD-W6"
      },
      "execution_count": 7,
      "outputs": []
    },
    {
      "cell_type": "markdown",
      "source": [
        "Data augmentation"
      ],
      "metadata": {
        "id": "SA2p06AIFQQ9"
      }
    },
    {
      "cell_type": "code",
      "source": [
        "\n",
        "# Note the rescaling layer. These layers have pre-defined inference behavior.\n",
        "data_augmentation = keras.Sequential(\n",
        "    [\n",
        "        layers.Rescaling(scale=1.0 / 255),\n",
        "        layers.RandomCrop(image_size, image_size),\n",
        "        layers.RandomFlip(\"horizontal\"),\n",
        "    ],\n",
        "    name=\"data_augmentation\",\n",
        ")"
      ],
      "metadata": {
        "id": "U5KhLlhIEDFT"
      },
      "execution_count": 8,
      "outputs": []
    },
    {
      "cell_type": "markdown",
      "source": [
        "Final CCT Model"
      ],
      "metadata": {
        "id": "gLEjqjyVFEqQ"
      }
    },
    {
      "cell_type": "code",
      "source": [
        "\n",
        "def create_cct_model(\n",
        "    image_size=image_size,\n",
        "    input_shape=input_shape,\n",
        "    num_heads=num_heads,\n",
        "    projection_dim=projection_dim,\n",
        "    transformer_units=transformer_units,\n",
        "):\n",
        "\n",
        "    inputs = layers.Input(input_shape)\n",
        "\n",
        "    # Augment data.\n",
        "    augmented = data_augmentation(inputs)\n",
        "\n",
        "    # Encode patches.\n",
        "    cct_tokenizer = CCTTokenizer()\n",
        "    encoded_patches = cct_tokenizer(augmented)\n",
        "\n",
        "    # Apply positional embedding.\n",
        "    if positional_emb:\n",
        "        pos_embed, seq_length = cct_tokenizer.positional_embedding(image_size)\n",
        "        positions = tf.range(start=0, limit=seq_length, delta=1)\n",
        "        position_embeddings = pos_embed(positions)\n",
        "        encoded_patches += position_embeddings\n",
        "\n",
        "    # Calculate Stochastic Depth probabilities.\n",
        "    dpr = [x for x in np.linspace(0, stochastic_depth_rate, transformer_layers)]\n",
        "\n",
        "    # Create multiple layers of the Transformer block.\n",
        "    for i in range(transformer_layers):\n",
        "        # Layer normalization 1.\n",
        "        x1 = layers.LayerNormalization(epsilon=1e-5)(encoded_patches)\n",
        "\n",
        "        # Create a multi-head attention layer.\n",
        "        attention_output = layers.MultiHeadAttention(\n",
        "            num_heads=num_heads, key_dim=projection_dim, dropout=0.1\n",
        "        )(x1, x1)\n",
        "\n",
        "        # Skip connection 1.\n",
        "        attention_output = StochasticDepth(dpr[i])(attention_output)\n",
        "        x2 = layers.Add()([attention_output, encoded_patches])\n",
        "\n",
        "        # Layer normalization 2.\n",
        "        x3 = layers.LayerNormalization(epsilon=1e-5)(x2)\n",
        "\n",
        "        # MLP.\n",
        "        x3 = mlp(x3, hidden_units=transformer_units, dropout_rate=0.1)\n",
        "\n",
        "        # Skip connection 2.\n",
        "        x3 = StochasticDepth(dpr[i])(x3)\n",
        "        encoded_patches = layers.Add()([x3, x2])\n",
        "\n",
        "    # Apply sequence pooling.\n",
        "    representation = layers.LayerNormalization(epsilon=1e-5)(encoded_patches)\n",
        "    attention_weights = tf.nn.softmax(layers.Dense(1)(representation), axis=1)\n",
        "    weighted_representation = tf.matmul(\n",
        "        attention_weights, representation, transpose_a=True\n",
        "    )\n",
        "    weighted_representation = tf.squeeze(weighted_representation, -2)\n",
        "\n",
        "    # Classify outputs.\n",
        "    logits = layers.Dense(num_classes)(weighted_representation)\n",
        "    # Create the Keras model.\n",
        "    model = keras.Model(inputs=inputs, outputs=logits)\n",
        "    return model"
      ],
      "metadata": {
        "id": "al3A84UREG5t"
      },
      "execution_count": 9,
      "outputs": []
    },
    {
      "cell_type": "markdown",
      "source": [
        "Model training and evaluation"
      ],
      "metadata": {
        "id": "1-O3vdm_FGjT"
      }
    },
    {
      "cell_type": "code",
      "source": [
        "def run_experiment(model):\n",
        "    optimizer = tfa.optimizers.AdamW(learning_rate=0.001, weight_decay=0.0001)\n",
        "\n",
        "    model.compile(\n",
        "        optimizer=optimizer,\n",
        "        loss=keras.losses.CategoricalCrossentropy(\n",
        "            from_logits=True, label_smoothing=0.1\n",
        "        ),\n",
        "        metrics=[\n",
        "            keras.metrics.CategoricalAccuracy(name=\"accuracy\"),\n",
        "            keras.metrics.TopKCategoricalAccuracy(5, name=\"top-5-accuracy\"),\n",
        "        ],\n",
        "    )\n",
        "\n",
        "    checkpoint_filepath = \"/tmp/checkpoint\"\n",
        "    checkpoint_callback = keras.callbacks.ModelCheckpoint(\n",
        "        checkpoint_filepath,\n",
        "        monitor=\"val_accuracy\",\n",
        "        save_best_only=True,\n",
        "        save_weights_only=True,\n",
        "    )\n",
        "\n",
        "    history = model.fit(\n",
        "        x=x_train,\n",
        "        y=y_train,\n",
        "        batch_size=batch_size,\n",
        "        epochs=num_epochs,\n",
        "        validation_split=0.1,\n",
        "        callbacks=[checkpoint_callback],\n",
        "    )\n",
        "\n",
        "    model.load_weights(checkpoint_filepath)\n",
        "    _, accuracy, top_5_accuracy = model.evaluate(x_test, y_test)\n",
        "    print(f\"Test accuracy: {round(accuracy * 100, 2)}%\")\n",
        "    print(f\"Test top 5 accuracy: {round(top_5_accuracy * 100, 2)}%\")\n",
        "\n",
        "    return history\n",
        "\n",
        "\n",
        "cct_model = create_cct_model()\n",
        "history = run_experiment(cct_model)"
      ],
      "metadata": {
        "colab": {
          "base_uri": "https://localhost:8080/"
        },
        "id": "twSQ55rAEIrn",
        "outputId": "918fa010-e33e-460f-8ea9-3167d121deaf"
      },
      "execution_count": 10,
      "outputs": [
        {
          "output_type": "stream",
          "name": "stdout",
          "text": [
            "Epoch 1/30\n",
            "352/352 [==============================] - 55s 130ms/step - loss: 4.1775 - accuracy: 0.0810 - top-5-accuracy: 0.2468 - val_loss: 3.8214 - val_accuracy: 0.1376 - val_top-5-accuracy: 0.3756\n",
            "Epoch 2/30\n",
            "352/352 [==============================] - 39s 111ms/step - loss: 3.6366 - accuracy: 0.1800 - top-5-accuracy: 0.4470 - val_loss: 3.4704 - val_accuracy: 0.2188 - val_top-5-accuracy: 0.5070\n",
            "Epoch 3/30\n",
            "352/352 [==============================] - 39s 110ms/step - loss: 3.3428 - accuracy: 0.2450 - top-5-accuracy: 0.5485 - val_loss: 3.2206 - val_accuracy: 0.2764 - val_top-5-accuracy: 0.5920\n",
            "Epoch 4/30\n",
            "352/352 [==============================] - 38s 106ms/step - loss: 3.1358 - accuracy: 0.2952 - top-5-accuracy: 0.6114 - val_loss: 3.0837 - val_accuracy: 0.3048 - val_top-5-accuracy: 0.6216\n",
            "Epoch 5/30\n",
            "352/352 [==============================] - 33s 93ms/step - loss: 2.9989 - accuracy: 0.3277 - top-5-accuracy: 0.6500 - val_loss: 2.9526 - val_accuracy: 0.3346 - val_top-5-accuracy: 0.6704\n",
            "Epoch 6/30\n",
            "352/352 [==============================] - 33s 94ms/step - loss: 2.8920 - accuracy: 0.3569 - top-5-accuracy: 0.6774 - val_loss: 2.9746 - val_accuracy: 0.3364 - val_top-5-accuracy: 0.6558\n",
            "Epoch 7/30\n",
            "352/352 [==============================] - 35s 100ms/step - loss: 2.8073 - accuracy: 0.3803 - top-5-accuracy: 0.7026 - val_loss: 2.8714 - val_accuracy: 0.3678 - val_top-5-accuracy: 0.6898\n",
            "Epoch 8/30\n",
            "352/352 [==============================] - 33s 95ms/step - loss: 2.7285 - accuracy: 0.3991 - top-5-accuracy: 0.7242 - val_loss: 2.7966 - val_accuracy: 0.3880 - val_top-5-accuracy: 0.7060\n",
            "Epoch 9/30\n",
            "352/352 [==============================] - 33s 93ms/step - loss: 2.6637 - accuracy: 0.4188 - top-5-accuracy: 0.7389 - val_loss: 2.7403 - val_accuracy: 0.3942 - val_top-5-accuracy: 0.7236\n",
            "Epoch 10/30\n",
            "352/352 [==============================] - 33s 93ms/step - loss: 2.6120 - accuracy: 0.4288 - top-5-accuracy: 0.7548 - val_loss: 2.7289 - val_accuracy: 0.3966 - val_top-5-accuracy: 0.7216\n",
            "Epoch 11/30\n",
            "352/352 [==============================] - 34s 98ms/step - loss: 2.5618 - accuracy: 0.4443 - top-5-accuracy: 0.7657 - val_loss: 2.6166 - val_accuracy: 0.4310 - val_top-5-accuracy: 0.7518\n",
            "Epoch 12/30\n",
            "352/352 [==============================] - 32s 92ms/step - loss: 2.5113 - accuracy: 0.4591 - top-5-accuracy: 0.7808 - val_loss: 2.5882 - val_accuracy: 0.4484 - val_top-5-accuracy: 0.7582\n",
            "Epoch 13/30\n",
            "352/352 [==============================] - 33s 93ms/step - loss: 2.4721 - accuracy: 0.4716 - top-5-accuracy: 0.7875 - val_loss: 2.6207 - val_accuracy: 0.4380 - val_top-5-accuracy: 0.7544\n",
            "Epoch 14/30\n",
            "352/352 [==============================] - 32s 92ms/step - loss: 2.4427 - accuracy: 0.4775 - top-5-accuracy: 0.7952 - val_loss: 2.5840 - val_accuracy: 0.4480 - val_top-5-accuracy: 0.7582\n",
            "Epoch 15/30\n",
            "352/352 [==============================] - 34s 97ms/step - loss: 2.4017 - accuracy: 0.4912 - top-5-accuracy: 0.8044 - val_loss: 2.5617 - val_accuracy: 0.4476 - val_top-5-accuracy: 0.7644\n",
            "Epoch 16/30\n",
            "352/352 [==============================] - 33s 93ms/step - loss: 2.3767 - accuracy: 0.4986 - top-5-accuracy: 0.8093 - val_loss: 2.5304 - val_accuracy: 0.4596 - val_top-5-accuracy: 0.7684\n",
            "Epoch 17/30\n",
            "352/352 [==============================] - 32s 92ms/step - loss: 2.3444 - accuracy: 0.5085 - top-5-accuracy: 0.8174 - val_loss: 2.5016 - val_accuracy: 0.4654 - val_top-5-accuracy: 0.7814\n",
            "Epoch 18/30\n",
            "352/352 [==============================] - 32s 92ms/step - loss: 2.3175 - accuracy: 0.5160 - top-5-accuracy: 0.8236 - val_loss: 2.5315 - val_accuracy: 0.4610 - val_top-5-accuracy: 0.7746\n",
            "Epoch 19/30\n",
            "352/352 [==============================] - 32s 92ms/step - loss: 2.3054 - accuracy: 0.5222 - top-5-accuracy: 0.8258 - val_loss: 2.4945 - val_accuracy: 0.4756 - val_top-5-accuracy: 0.7844\n",
            "Epoch 20/30\n",
            "352/352 [==============================] - 34s 96ms/step - loss: 2.2634 - accuracy: 0.5325 - top-5-accuracy: 0.8336 - val_loss: 2.5562 - val_accuracy: 0.4556 - val_top-5-accuracy: 0.7654\n",
            "Epoch 21/30\n",
            "352/352 [==============================] - 32s 91ms/step - loss: 2.2516 - accuracy: 0.5343 - top-5-accuracy: 0.8364 - val_loss: 2.4676 - val_accuracy: 0.4880 - val_top-5-accuracy: 0.7870\n",
            "Epoch 22/30\n",
            "352/352 [==============================] - 32s 91ms/step - loss: 2.2294 - accuracy: 0.5432 - top-5-accuracy: 0.8420 - val_loss: 2.4967 - val_accuracy: 0.4674 - val_top-5-accuracy: 0.7796\n",
            "Epoch 23/30\n",
            "352/352 [==============================] - 32s 92ms/step - loss: 2.2180 - accuracy: 0.5449 - top-5-accuracy: 0.8438 - val_loss: 2.4424 - val_accuracy: 0.4952 - val_top-5-accuracy: 0.7904\n",
            "Epoch 24/30\n",
            "352/352 [==============================] - 33s 95ms/step - loss: 2.1951 - accuracy: 0.5528 - top-5-accuracy: 0.8494 - val_loss: 2.4721 - val_accuracy: 0.4858 - val_top-5-accuracy: 0.7840\n",
            "Epoch 25/30\n",
            "352/352 [==============================] - 32s 92ms/step - loss: 2.1798 - accuracy: 0.5549 - top-5-accuracy: 0.8535 - val_loss: 2.4591 - val_accuracy: 0.4872 - val_top-5-accuracy: 0.7914\n",
            "Epoch 26/30\n",
            "352/352 [==============================] - 32s 91ms/step - loss: 2.1592 - accuracy: 0.5650 - top-5-accuracy: 0.8574 - val_loss: 2.4817 - val_accuracy: 0.4768 - val_top-5-accuracy: 0.7906\n",
            "Epoch 27/30\n",
            "352/352 [==============================] - 32s 91ms/step - loss: 2.1494 - accuracy: 0.5672 - top-5-accuracy: 0.8589 - val_loss: 2.4583 - val_accuracy: 0.4912 - val_top-5-accuracy: 0.7916\n",
            "Epoch 28/30\n",
            "352/352 [==============================] - 32s 92ms/step - loss: 2.1389 - accuracy: 0.5687 - top-5-accuracy: 0.8615 - val_loss: 2.4434 - val_accuracy: 0.4908 - val_top-5-accuracy: 0.8022\n",
            "Epoch 29/30\n",
            "352/352 [==============================] - 33s 95ms/step - loss: 2.1202 - accuracy: 0.5758 - top-5-accuracy: 0.8648 - val_loss: 2.4108 - val_accuracy: 0.5024 - val_top-5-accuracy: 0.8036\n",
            "Epoch 30/30\n",
            "352/352 [==============================] - 32s 92ms/step - loss: 2.1138 - accuracy: 0.5777 - top-5-accuracy: 0.8671 - val_loss: 2.4434 - val_accuracy: 0.4956 - val_top-5-accuracy: 0.8018\n",
            "313/313 [==============================] - 2s 7ms/step - loss: 2.4028 - accuracy: 0.5006 - top-5-accuracy: 0.8060\n",
            "Test accuracy: 50.06%\n",
            "Test top 5 accuracy: 80.6%\n"
          ]
        }
      ]
    },
    {
      "cell_type": "markdown",
      "source": [
        "Visualizing the training progress of the model"
      ],
      "metadata": {
        "id": "N3bV5O6DFRRJ"
      }
    },
    {
      "cell_type": "code",
      "source": [
        "\n",
        "plt.plot(history.history[\"loss\"], label=\"train_loss\")\n",
        "plt.plot(history.history[\"val_loss\"], label=\"val_loss\")\n",
        "plt.xlabel(\"Epochs\")\n",
        "plt.ylabel(\"Loss\")\n",
        "plt.title(\"Train and Validation Losses Over Epochs\", fontsize=14)\n",
        "plt.legend()\n",
        "plt.grid()\n",
        "plt.show()"
      ],
      "metadata": {
        "colab": {
          "base_uri": "https://localhost:8080/",
          "height": 296
        },
        "id": "iJnvGpAxEuTi",
        "outputId": "d9b801fe-a078-42f7-da46-e8106242c3e3"
      },
      "execution_count": 11,
      "outputs": [
        {
          "output_type": "display_data",
          "data": {
            "text/plain": [
              "<Figure size 432x288 with 1 Axes>"
            ],
            "image/png": "[encoded data removed]"
          },
          "metadata": {
            "needs_background": "light"
          }
        }
      ]
    }
  ]
}